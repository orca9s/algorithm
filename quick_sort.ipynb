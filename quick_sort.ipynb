{
 "cells": [
  {
   "cell_type": "markdown",
   "metadata": {},
   "source": [
    "###quick_sort_pythonic"
   ]
  },
  {
   "cell_type": "code",
   "execution_count": 6,
   "metadata": {},
   "outputs": [
    {
     "name": "stdout",
     "output_type": "stream",
     "text": [
      "[15, 74, 187, 405, 619, 654, 712, 845, 886, 904]\n"
     ]
    }
   ],
   "source": [
    "import random\n",
    "numbers = [random.randrange(1000) for i in range(10)]\n",
    "\n",
    "def quick_sort_pythonic(list):\n",
    "    # 재귀함수의 종료조건을 항상 먼저 쓴다.\n",
    "    if len(list) <= 1:\n",
    "        return list\n",
    "    else:\n",
    "        # 피봇은 맨 앞 숫자\n",
    "        pivot = list[0]\n",
    "        # 피봇보다 작은 아이들 모으기\n",
    "        less = [i for i in list[1:] if i <= pivot]\n",
    "        # 피봇보다 큰 아이들 모으기\n",
    "        greater = [i for i in list[1:] if i > pivot]\n",
    "        # 재귀호출\n",
    "        return quick_sort_pythonic(less) + [pivot] + quick_sort_pythonic(greater)\n",
    "    return numbers\n",
    "print(quick_sort_pythonic(numbers))"
   ]
  },
  {
   "cell_type": "code",
   "execution_count": 17,
   "metadata": {},
   "outputs": [],
   "source": [
    "# 진짜 퀵소트 코드는 여기다\n",
    "def partition(list, start, end):\n",
    "    # 피봇갑 설정\n",
    "    pivot = list[start]\n",
    "    # 앞에서부터 뒤로 가면서 pivot보다 큰 값을 찾아라 index\n",
    "    left = start + 1\n",
    "    # 뒤에서부터 앞으로 가면서 pivot보다 작은 값을 찾아갈 index\n",
    "    right = end\n",
    "    # pivot 기준으로 분류가 다 되었는지 확인하는 flag\n",
    "    # 분류가 어떻게 다 되었는지 아는가? right와 left가 교찰할 때\n",
    "    done = False\n",
    "    \n",
    "    # 분류를 계속한다. 끝날때까지\n",
    "    while not done:\n",
    "        # left는 큰 값의 인덱스를 찾는다.\n",
    "        while left <= right and list[left] <= pivot:\n",
    "            left += 1\n",
    "        # right는 작은 값의 인덱스를 찾는다.\n",
    "        while left <= right and list[right] > pivot:\n",
    "            right -= 1\n",
    "        if left > right:\n",
    "            done = True\n",
    "        else:\n",
    "            # 분류가 안끝났으면 swap\n",
    "            list[right], list[left] = list[left], list[right]\n",
    "    # 분류 끝!!\n",
    "    # 이제 피봇이 제자리로....\n",
    "    # 피봇은 작은 값들의 인덱스 중에서 가장 큰 값과 바꾸면 된다.\n",
    "    list[start], list[right] = list[right], list[start]\n",
    "    \n",
    "    # 파티션의 마지막 임무 - 피봇 인덱스 넘기기\n",
    "    return right\n",
    "            \n",
    "\n",
    "# 진짜 퀵소트\n",
    "def quick_sort_classic(list, start, end):\n",
    "    # 재귀함수 종료조건\n",
    "    if start > end:\n",
    "        return list\n",
    "    else:\n",
    "        # 제자리를 찾은 피봇의 인덱스를 partition에게 받는다.\n",
    "        pivot = partition(list, start, end)\n",
    "        # 피봇보다 작은 값들끼리 퀵소트\n",
    "        quick_sort_classic(list, start, pivot - 1)\n",
    "        # 피봇보다 큰 값들끼리 퀵소트\n",
    "        quick_sort_classic(list, pivot + 1, end)\n",
    "    # 모든 정렬 마치고 리턴\n",
    "    return list\n",
    "\n"
   ]
  },
  {
   "cell_type": "code",
   "execution_count": 18,
   "metadata": {},
   "outputs": [
    {
     "name": "stdout",
     "output_type": "stream",
     "text": [
      "[15, 74, 187, 405, 619, 654, 712, 845, 886, 904]\n"
     ]
    }
   ],
   "source": [
    "print(quick_sort_classic(numbers.copy(), 0, len(numbers.copy())-1))"
   ]
  }
 ],
 "metadata": {
  "kernelspec": {
   "display_name": "Python 3",
   "language": "python",
   "name": "python3"
  },
  "language_info": {
   "codemirror_mode": {
    "name": "ipython",
    "version": 3
   },
   "file_extension": ".py",
   "mimetype": "text/x-python",
   "name": "python",
   "nbconvert_exporter": "python",
   "pygments_lexer": "ipython3",
   "version": "3.6.5"
  }
 },
 "nbformat": 4,
 "nbformat_minor": 2
}
