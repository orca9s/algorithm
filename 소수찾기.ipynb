{
 "cells": [
  {
   "cell_type": "code",
   "execution_count": 10,
   "metadata": {},
   "outputs": [
    {
     "name": "stdout",
     "output_type": "stream",
     "text": [
      "25\n"
     ]
    }
   ],
   "source": [
    "def numberofprime(n):\n",
    "    result = 0\n",
    "    for i in range(1, n+1):\n",
    "        num = 0\n",
    "        for j in range(1, i+1):\n",
    "            if i % j == 0:\n",
    "                num += 1\n",
    "        if num == 2:\n",
    "            result += 1\n",
    "    return result\n",
    "print(numberofprime(100))"
   ]
  },
  {
   "cell_type": "code",
   "execution_count": 14,
   "metadata": {},
   "outputs": [
    {
     "name": "stdout",
     "output_type": "stream",
     "text": [
      "4\n"
     ]
    }
   ],
   "source": [
    "def prime(n):\n",
    "    num_list = list(range(n+1))\n",
    "    prime_list = []\n",
    "    for num in num_list:\n",
    "        check = 0\n",
    "        for i in list(range(1, num+1)):\n",
    "            if num % i == 0:\n",
    "                check += 1\n",
    "        if check == 2:\n",
    "            prime_list.append(num)\n",
    "    return len(prime_list)\n",
    "print(prime(10))"
   ]
  },
  {
   "cell_type": "code",
   "execution_count": 17,
   "metadata": {},
   "outputs": [
    {
     "name": "stdout",
     "output_type": "stream",
     "text": [
      "4\n"
     ]
    }
   ],
   "source": [
    "def is_prime(n):\n",
    "    return all([(n%j) for j in range(2, int(n**0.5)+1)]) and n>1\n",
    "def nprime(n):\n",
    "    return [is_prime(x) for x in range(1, n+1)].count(True)\n",
    "print(nprime(10))"
   ]
  }
 ],
 "metadata": {
  "kernelspec": {
   "display_name": "Python 3",
   "language": "python",
   "name": "python3"
  },
  "language_info": {
   "codemirror_mode": {
    "name": "ipython",
    "version": 3
   },
   "file_extension": ".py",
   "mimetype": "text/x-python",
   "name": "python",
   "nbconvert_exporter": "python",
   "pygments_lexer": "ipython3",
   "version": "3.6.5"
  }
 },
 "nbformat": 4,
 "nbformat_minor": 2
}
