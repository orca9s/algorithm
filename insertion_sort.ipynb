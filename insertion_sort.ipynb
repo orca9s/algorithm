{
 "cells": [
  {
   "cell_type": "code",
   "execution_count": null,
   "metadata": {},
   "outputs": [],
   "source": [
    "def insertion_sort(list):\n",
    "    length = len(list)\n",
    "    for i in range(1, length):\n",
    "        curr = list[i]\n",
    "        index = i\n",
    "        while index > 0 and list[index - 1] > curr:\n",
    "            list[index] = list[index-1]\n",
    "            index -= 1\n",
    "        list[index] = curr\n",
    "    return list\n",
    "print(insertion_sort)"
   ]
  }
 ],
 "metadata": {
  "kernelspec": {
   "display_name": "Python 3",
   "language": "python",
   "name": "python3"
  },
  "language_info": {
   "codemirror_mode": {
    "name": "ipython",
    "version": 3
   },
   "file_extension": ".py",
   "mimetype": "text/x-python",
   "name": "python",
   "nbconvert_exporter": "python",
   "pygments_lexer": "ipython3",
   "version": "3.6.5"
  }
 },
 "nbformat": 4,
 "nbformat_minor": 2
}
