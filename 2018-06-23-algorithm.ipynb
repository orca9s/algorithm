{
 "cells": [
  {
   "cell_type": "markdown",
   "metadata": {},
   "source": [
    "알고리즘 선택정렬 만들기<br>\n",
    "0~99까지 임의의 정수를 10개 갖는 리스트 생성하기 <br>\n",
    "어떤 값이 들어올지 모르기 때문에 정렬이 안되면 다 드러난다.<br>\n",
    "function analysis <br>\n",
    "name : selection_sor()<br>\n",
    "input(parameters) : (list)numbers(unsorted)\n",
    "output(return) : (list)numbers(sorted)\n",
    "local variables : 현재 단계에서는 이것을 생각하는 것이 중요하다!. <br>\n",
    "(1) 리스트의 크기(개수) - length<br>\n",
    "(2) 현재 비교할 리스트의 인덱스 2개 - i, j\n",
    "(3) 현재 loop단계에서 가장 작은 값을 가리키는 index -min_index <br>\n",
    "\n",
    "구현을 위해 내가 필요한 코드\n",
    "loop : for, range()\n",
    "swap : 바꿔주는 함수: a, b = b, a"
   ]
  },
  {
   "cell_type": "code",
   "execution_count": 1,
   "metadata": {},
   "outputs": [
    {
     "name": "stdout",
     "output_type": "stream",
     "text": [
      "[1, 4, 22, 54, 64, 67, 74, 78, 83, 94]\n"
     ]
    }
   ],
   "source": [
    "import random\n",
    "numbers = list()\n",
    "# range 범위 정해주기\n",
    "for i in range(10):\n",
    "    numbers.append(random.randrange(100))\n",
    "def selection_sort(a):\n",
    "    length = len(a)\n",
    "    # 마지막 수는 비교할 필요가 없기 떄문에 length - 1을 해준다.\n",
    "    for i in range(length - 1):\n",
    "        # 최소 값을 min_index라고 주고 i라고 설정 변수가 i이기 때문에\n",
    "        min_index = i\n",
    "        # 여기선 i자신은 비교할 필요가 없기 때문에 i+1부터 시작 하면 된다 정해진 범위 까지 검사.\n",
    "        for j in range(i+1, length):\n",
    "            # 우리는 여태 인덱스 값을 가지고 비교를 한것이다. 하지만 실제 비교할 때는 숫자 끼리 비교해야 하기 \n",
    "            # 때문에 a안의 실제 값을 입력해 주어야 하기 때문에 a[j]이런 표현으로 쓴다.\n",
    "            # min_index가 정말 가장 작은 값인지 검\n",
    "            if a[j] < a[min_index]:\n",
    "                min_index = j\n",
    "        # min_index가 가장 작은 값이면 비교할 필요가 없기 때문에 검사 해준다.\n",
    "        if min_index != i:\n",
    "            a[min_index], a[i] = a[i], a[min_index]\n",
    "    return(numbers)\n",
    "print(selection_sort(numbers))\n",
    "        "
   ]
  },
  {
   "cell_type": "code",
   "execution_count": 2,
   "metadata": {},
   "outputs": [
    {
     "name": "stdout",
     "output_type": "stream",
     "text": [
      "[9, 11, 11, 13, 15, 47, 59, 69, 78, 81]\n"
     ]
    }
   ],
   "source": [
    "# 선택정렬\n",
    "import random\n",
    "numbers = list()\n",
    "for i in range(10):\n",
    "    numbers.append(random.randrange(100))\n",
    "def selection_sort(a):\n",
    "    length = len(a)\n",
    "    for i in range(length - 1):\n",
    "        min_index = i\n",
    "        for j in range(i+1, length):\n",
    "            if a[j] < a[min_index]:\n",
    "                min_index = j\n",
    "        if min_index != i:\n",
    "            a[min_index], a[i] = a[i], a[min_index]\n",
    "    return(numbers)\n",
    "print(selection_sort(numbers))"
   ]
  },
  {
   "cell_type": "markdown",
   "metadata": {},
   "source": [
    "버블정렬\n",
    "\n"
   ]
  },
  {
   "cell_type": "code",
   "execution_count": 3,
   "metadata": {},
   "outputs": [
    {
     "name": "stdout",
     "output_type": "stream",
     "text": [
      "[173, 195, 298, 536, 548, 622, 695, 782, 907, 924]\n"
     ]
    }
   ],
   "source": [
    "import random\n",
    "numbers = [random.randrange(1000) for i in range(10)]\n",
    "\n",
    "def bubble_sort(list):\n",
    "    length = len(list)\n",
    "    for i in range(length -1, 0, -1):\n",
    "        for j in range(i):\n",
    "            if list[j] > list[j+1]:\n",
    "                list[j], list[j+1] = list[j+1], list[j]\n",
    "    return list\n",
    "print(bubble_sort(numbers))"
   ]
  },
  {
   "cell_type": "code",
   "execution_count": 4,
   "metadata": {},
   "outputs": [
    {
     "name": "stdout",
     "output_type": "stream",
     "text": [
      "[166, 197, 390, 552, 571, 661, 701, 846, 907, 985]\n"
     ]
    }
   ],
   "source": [
    "import random\n",
    "numbers = [random.randrange(1000) for i in range(10)]\n",
    "\n",
    "def bubble_sort(list):\n",
    "    length = len(list)\n",
    "    for i in range(length -1, 0 , -1):\n",
    "        for j in range(i):\n",
    "            if list[j] > list[j+1]:\n",
    "                list[j], list[j+1] = list[j+1], list[j]\n",
    "    return (numbers)\n",
    "print(bubble_sort(numbers))"
   ]
  },
  {
   "cell_type": "code",
   "execution_count": 2,
   "metadata": {},
   "outputs": [
    {
     "name": "stdout",
     "output_type": "stream",
     "text": [
      "[156, 412, 413, 472, 496, 519, 526, 582, 832, 901]\n"
     ]
    }
   ],
   "source": [
    "import random\n",
    "numbers = [random.randrange(1000) for i in range(10)]\n",
    "\n",
    "def bubble_sort(list):\n",
    "    length = len(list)\n",
    "    for i in range(length -1, 0, -1):\n",
    "        for j in range(i):\n",
    "            if list[j] > list[j+1]:\n",
    "                list[j], list[j+1] = list[j+1], list[j]\n",
    "    return (numbers)\n",
    "print(bubble_sort(numbers))"
   ]
  },
  {
   "cell_type": "code",
   "execution_count": 4,
   "metadata": {},
   "outputs": [
    {
     "name": "stdout",
     "output_type": "stream",
     "text": [
      "[156, 412, 413, 472, 496, 519, 526, 582, 832, 901]\n"
     ]
    }
   ],
   "source": [
    "def insertion_sort(list):\n",
    "    length = len(list)\n",
    "    \n",
    "    for i in range(1, length):\n",
    "        curr = list[i]\n",
    "        index = i\n",
    "        \n",
    "        while index > 0 and list[index - 1] > curr:\n",
    "            list[index] = list[index-1]\n",
    "            index -= 1\n",
    "            \n",
    "        list[index] = curr\n",
    "    return list\n",
    "print(insertion_sort(numbers.copy()))"
   ]
  },
  {
   "cell_type": "markdown",
   "metadata": {},
   "source": [
    "삽입정렬\n"
   ]
  },
  {
   "cell_type": "code",
   "execution_count": 1,
   "metadata": {},
   "outputs": [
    {
     "ename": "UnboundLocalError",
     "evalue": "local variable 'indedx' referenced before assignment",
     "output_type": "error",
     "traceback": [
      "\u001b[0;31m---------------------------------------------------------------------------\u001b[0m",
      "\u001b[0;31mUnboundLocalError\u001b[0m                         Traceback (most recent call last)",
      "\u001b[0;32m<ipython-input-1-7d4e173a1fd2>\u001b[0m in \u001b[0;36m<module>\u001b[0;34m()\u001b[0m\n\u001b[1;32m     18\u001b[0m         \u001b[0maaa\u001b[0m\u001b[0;34m[\u001b[0m\u001b[0mindex\u001b[0m\u001b[0;34m]\u001b[0m \u001b[0;34m=\u001b[0m \u001b[0mcurr_value\u001b[0m\u001b[0;34m\u001b[0m\u001b[0m\n\u001b[1;32m     19\u001b[0m     \u001b[0;32mreturn\u001b[0m \u001b[0maaa\u001b[0m\u001b[0;34m\u001b[0m\u001b[0m\n\u001b[0;32m---> 20\u001b[0;31m \u001b[0mprint\u001b[0m\u001b[0;34m(\u001b[0m\u001b[0minsertion_sort\u001b[0m\u001b[0;34m(\u001b[0m\u001b[0maaa\u001b[0m\u001b[0;34m)\u001b[0m\u001b[0;34m)\u001b[0m\u001b[0;34m\u001b[0m\u001b[0m\n\u001b[0m",
      "\u001b[0;32m<ipython-input-1-7d4e173a1fd2>\u001b[0m in \u001b[0;36minsertion_sort\u001b[0;34m(aaa)\u001b[0m\n\u001b[1;32m     15\u001b[0m             \u001b[0;31m# 비교한 숫자가 더 크면 뒤로 보낸다.\u001b[0m\u001b[0;34m\u001b[0m\u001b[0;34m\u001b[0m\u001b[0m\n\u001b[1;32m     16\u001b[0m             \u001b[0maaa\u001b[0m\u001b[0;34m[\u001b[0m\u001b[0mindex\u001b[0m\u001b[0;34m]\u001b[0m \u001b[0;34m=\u001b[0m \u001b[0maaa\u001b[0m\u001b[0;34m[\u001b[0m\u001b[0mindex\u001b[0m \u001b[0;34m-\u001b[0m \u001b[0;36m1\u001b[0m\u001b[0;34m]\u001b[0m\u001b[0;34m\u001b[0m\u001b[0m\n\u001b[0;32m---> 17\u001b[0;31m             \u001b[0mindedx\u001b[0m \u001b[0;34m-=\u001b[0m \u001b[0;36m1\u001b[0m\u001b[0;34m\u001b[0m\u001b[0m\n\u001b[0m\u001b[1;32m     18\u001b[0m         \u001b[0maaa\u001b[0m\u001b[0;34m[\u001b[0m\u001b[0mindex\u001b[0m\u001b[0;34m]\u001b[0m \u001b[0;34m=\u001b[0m \u001b[0mcurr_value\u001b[0m\u001b[0;34m\u001b[0m\u001b[0m\n\u001b[1;32m     19\u001b[0m     \u001b[0;32mreturn\u001b[0m \u001b[0maaa\u001b[0m\u001b[0;34m\u001b[0m\u001b[0m\n",
      "\u001b[0;31mUnboundLocalError\u001b[0m: local variable 'indedx' referenced before assignment"
     ]
    }
   ],
   "source": [
    "import random\n",
    "aaa = list()\n",
    "for i in range(10):\n",
    "    aaa.append(random.randrange(100))\n",
    "\n",
    "def insertion_sort(aaa):\n",
    "    length = len(aaa)\n",
    "    for i in range(1, length):\n",
    "        # 비교할 숫자를 담아둘 빨간색 박스\n",
    "        curr_value = aaa[i]\n",
    "        # 여기까지가 빨간색 박스를 위로올려두는 코드\n",
    "        index = i\n",
    "        #\n",
    "        while index > 0 and aaa[index - 1] > curr_value:\n",
    "            # 비교한 숫자가 더 크면 뒤로 보낸다.\n",
    "            aaa[index] = aaa[index - 1]\n",
    "            indedx -= 1\n",
    "        aaa[index] = curr_value\n",
    "    return aaa\n",
    "print(insertion_sort(aaa))"
   ]
  },
  {
   "cell_type": "markdown",
   "metadata": {},
   "source": [
    "rm -rf\n",
    "recursive: (재귀적으로)하위 폴더까지 삭제\n",
    "어떤 순서대로 지울까?\n",
    "\n",
    "Implementation!\n",
    "1부터 n까지 자연수를 모두 더하는 코드\n",
    "def calc_sum(num):\n",
    "result = 0\n",
    "for i in range(num+1):\n",
    "result += i\n",
    "return(result)\n",
    "\n",
    "sum(n) == n + sum(n-1)\n",
    "\n",
    "재귀함수 만들기\n",
    "리턴조건 만들기!!!!!-중요!!!!!\n",
    "리턴이 없으면 무한히 돌고도는 함수가 된다.\n",
    "\n",
    "fibonacci(n) = fibonacci(n-1) + fibonacci(n-2)"
   ]
  },
  {
   "cell_type": "code",
   "execution_count": 10,
   "metadata": {},
   "outputs": [],
   "source": [
    "num = 10\n",
    "def calc_sum(num):\n",
    "    if num == 1:\n",
    "        return num\n",
    "    return num + calc_sum(num - 1)"
   ]
  },
  {
   "cell_type": "code",
   "execution_count": 14,
   "metadata": {},
   "outputs": [
    {
     "name": "stdout",
     "output_type": "stream",
     "text": [
      "55\n"
     ]
    }
   ],
   "source": [
    "print(calc_sum(num))"
   ]
  },
  {
   "cell_type": "code",
   "execution_count": 17,
   "metadata": {},
   "outputs": [
    {
     "name": "stdout",
     "output_type": "stream",
     "text": [
      "832040\n"
     ]
    }
   ],
   "source": [
    "def fibonacci(index):\n",
    "    if index < 2:\n",
    "        return index\n",
    "    return fibonacci(index - 1) + fibonacci(index - 2)\n",
    "print(fibonacci(30))"
   ]
  },
  {
   "cell_type": "markdown",
   "metadata": {},
   "source": [
    "quick sort특징\n",
    "1. 임의의 피봇을 두고 피봇보다 작은 값/ 큰 값으로 분류한다.\n",
    "2. 분류할 때에 swap을 사용한다.\n",
    "3. 피봇보다 작은 값들/ 큰 값들 그들끼리는 정렬되지 않은 상태/\n",
    "4. 분류를 마치면 큰 값 중 가장 앞 인덱스와 피봇 swap"
   ]
  },
  {
   "cell_type": "code",
   "execution_count": null,
   "metadata": {},
   "outputs": [],
   "source": []
  }
 ],
 "metadata": {
  "kernelspec": {
   "display_name": "Python 3",
   "language": "python",
   "name": "python3"
  },
  "language_info": {
   "codemirror_mode": {
    "name": "ipython",
    "version": 3
   },
   "file_extension": ".py",
   "mimetype": "text/x-python",
   "name": "python",
   "nbconvert_exporter": "python",
   "pygments_lexer": "ipython3",
   "version": "3.6.5"
  }
 },
 "nbformat": 4,
 "nbformat_minor": 2
}
