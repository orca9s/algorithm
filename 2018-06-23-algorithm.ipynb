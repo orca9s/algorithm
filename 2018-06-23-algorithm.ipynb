{
 "cells": [
  {
   "cell_type": "markdown",
   "metadata": {},
   "source": [
    "알고리즘 선택정렬 만들기<br>\n",
    "0~99까지 임의의 정수를 10개 갖는 리스트 생성하기 <br>\n",
    "어떤 값이 들어올지 모르기 때문에 정렬이 안되면 다 드러난다.<br>\n",
    "function analysis <br>\n",
    "name : selection_sor()<br>\n",
    "input(parameters) : (list)numbers(unsorted)\n",
    "output(return) : (list)numbers(sorted)\n",
    "local variables : 현재 단계에서는 이것을 생각하는 것이 중요하다!. <br>\n",
    "(1) 리스트의 크기(개수) - length<br>\n",
    "(2) 현재 비교할 리스트의 인덱스 2개 - i, j\n",
    "(3) 현재 loop단계에서 가장 작은 값을 가리키는 index -min_index <br>\n",
    "\n",
    "구현을 위해 내가 필요한 코드\n",
    "loop : for, range()\n",
    "swap : 바꿔주는 함수: a, b = b, a"
   ]
  },
  {
   "cell_type": "code",
   "execution_count": 3,
   "metadata": {},
   "outputs": [
    {
     "name": "stdout",
     "output_type": "stream",
     "text": [
      "[6, 10, 38, 49, 74, 78, 78, 90, 95, 96]\n"
     ]
    }
   ],
   "source": [
    "import random\n",
    "numbers = list()\n",
    "# range 범위 정해주기\n",
    "for i in range(10):\n",
    "    numbers.append(random.randrange(100))\n",
    "def selection_sort(a):\n",
    "    length = len(a)\n",
    "    # 마지막 수는 비교할 필요가 없기 떄문에 length - 1을 해준다.\n",
    "    for i in range(length - 1):\n",
    "        # 최소 값을 min_index라고 주고 i라고 설정 변수가 i이기 때문에\n",
    "        min_index = i\n",
    "        # 여기선 i자신은 비교할 필요가 없기 때문에 i+1부터 시작 하면 된다 정해진 범위 까지 검사.\n",
    "        for j in range(i+1, length):\n",
    "            # 우리는 여태 인덱스 값을 가지고 비교를 한것이다. 하지만 실제 비교할 때는 숫자 끼리 비교해야 하기 \n",
    "            # 때문에 a안의 실제 값을 입력해 주어야 하기 때문에 a[j]이런 표현으로 쓴다.\n",
    "            # min_index가 정말 가장 작은 값인지 검\n",
    "            if a[j] < a[min_index]:\n",
    "                min_index = j\n",
    "        # min_index가 가장 작은 값이면 비교할 필요가 없기 때문에 검사 해준다.\n",
    "        if min_index != i:\n",
    "            a[min_index], a[i] = a[i], a[min_index]\n",
    "    return(numbers)\n",
    "print(selection_sort(numbers))\n",
    "        "
   ]
  }
 ],
 "metadata": {
  "kernelspec": {
   "display_name": "Python 3",
   "language": "python",
   "name": "python3"
  },
  "language_info": {
   "codemirror_mode": {
    "name": "ipython",
    "version": 3
   },
   "file_extension": ".py",
   "mimetype": "text/x-python",
   "name": "python",
   "nbconvert_exporter": "python",
   "pygments_lexer": "ipython3",
   "version": "3.6.5"
  }
 },
 "nbformat": 4,
 "nbformat_minor": 2
}
